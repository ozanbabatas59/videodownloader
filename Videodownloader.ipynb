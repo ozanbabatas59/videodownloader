{
  "nbformat": 4,
  "nbformat_minor": 0,
  "metadata": {
    "colab": {
      "provenance": []
    },
    "kernelspec": {
      "name": "python3",
      "display_name": "Python 3"
    },
    "language_info": {
      "name": "python"
    }
  },
  "cells": [
    {
      "cell_type": "code",
      "execution_count": 1,
      "metadata": {
        "colab": {
          "base_uri": "https://localhost:8080/"
        },
        "id": "flB1SXBiFFK-",
        "outputId": "ba92e2aa-5f09-425a-91f4-1ade6cb70681"
      },
      "outputs": [
        {
          "output_type": "stream",
          "name": "stdout",
          "text": [
            "Collecting pytube\n",
            "  Downloading pytube-15.0.0-py3-none-any.whl.metadata (5.0 kB)\n",
            "Collecting yt-dlp\n",
            "  Downloading yt_dlp-2025.1.15-py3-none-any.whl.metadata (172 kB)\n",
            "\u001b[2K     \u001b[90m━━━━━━━━━━━━━━━━━━━━━━━━━━━━━━━━━━━━━━━━\u001b[0m \u001b[32m172.2/172.2 kB\u001b[0m \u001b[31m2.7 MB/s\u001b[0m eta \u001b[36m0:00:00\u001b[0m\n",
            "\u001b[?25hDownloading pytube-15.0.0-py3-none-any.whl (57 kB)\n",
            "\u001b[2K   \u001b[90m━━━━━━━━━━━━━━━━━━━━━━━━━━━━━━━━━━━━━━━━\u001b[0m \u001b[32m57.6/57.6 kB\u001b[0m \u001b[31m2.6 MB/s\u001b[0m eta \u001b[36m0:00:00\u001b[0m\n",
            "\u001b[?25hDownloading yt_dlp-2025.1.15-py3-none-any.whl (3.2 MB)\n",
            "\u001b[2K   \u001b[90m━━━━━━━━━━━━━━━━━━━━━━━━━━━━━━━━━━━━━━━━\u001b[0m \u001b[32m3.2/3.2 MB\u001b[0m \u001b[31m15.6 MB/s\u001b[0m eta \u001b[36m0:00:00\u001b[0m\n",
            "\u001b[?25hInstalling collected packages: yt-dlp, pytube\n",
            "Successfully installed pytube-15.0.0 yt-dlp-2025.1.15\n"
          ]
        }
      ],
      "source": [
        "!pip install pytube yt-dlp\n"
      ]
    },
    {
      "cell_type": "code",
      "source": [
        "import os\n",
        "\n",
        "# Video URL'sini girin\n",
        "video_url = input(\"YouTube Video URL'sini girin: \")\n",
        "\n",
        "# İndirme işlemi\n",
        "print(\"Video indiriliyor...\")\n",
        "os.system(f\"yt-dlp -o '/content/%(title)s.%(ext)s' {video_url}\")\n",
        "print(\"İndirme tamamlandı! Dosya /content/ klasöründe saklanıyor.\")\n"
      ],
      "metadata": {
        "id": "2pF7fVW0FJhT"
      },
      "execution_count": null,
      "outputs": []
    }
  ]
}